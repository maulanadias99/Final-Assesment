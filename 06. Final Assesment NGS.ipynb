{
 "cells": [
  {
   "cell_type": "markdown",
   "id": "headed-collectible",
   "metadata": {
    "tags": []
   },
   "source": [
    "# Final Assessment\n",
    "**Mohoh dibaca terlebih dahulu:**\n",
    "* Dalam notebook ini anda akan mengerjakan assessment **acara 6**\n",
    "* Waktu yang diberikan adalah **15 Menit** \n",
    "* Perhatikan letak data dan input file pada directory\n",
    "* Apabila lokasi data dan file tersebut berbeda maka proses running tidak akan berjalan\n",
    "* Silahkan menjawab pertanyaan yang ada dalam notebook ini lansung pada cell yang disediakan.\n",
    "* Selamat mengerjakan"
   ]
  },
  {
   "cell_type": "code",
   "execution_count": null,
   "id": "super-geometry",
   "metadata": {},
   "outputs": [],
   "source": [
    "#perhatikan letak data dan file input pada directory\n",
    "#jika lokasi data dan file berbeda dengan directory kerja, \n",
    "#maka pastikan bahwa anda mengakses file dan data yang berada pada directory yang berbeda\n",
    "#cara lainnya adalah memindahkan data dan file input ke directory kerja\n",
    "!pwd"
   ]
  },
  {
   "cell_type": "markdown",
   "id": "retired-handling",
   "metadata": {},
   "source": [
    "## Next Generation Sequencing & Variant Calling Analysis\n",
    "Dalam acara ini akan dilakukan analisis variant calling hingga mengasilkan output berupa lokasi SNP sequence gen HBA2 dan visualisasi menggunakan IGV. \n",
    "\n"
   ]
  },
  {
   "cell_type": "markdown",
   "id": "close-scene",
   "metadata": {},
   "source": [
    "### 6.1 Konversi SAM ke (sorted) BAM\n",
    "Silahkan edit kode dibawah ini sehingga mengasilkan output sesuai gambar pada step 6.4"
   ]
  },
  {
   "cell_type": "code",
   "execution_count": null,
   "id": "direct-clearance",
   "metadata": {},
   "outputs": [],
   "source": [
    "#Sampel 1\n",
    "! samtools view -bS (masukkan input file) > 1_HBA2.bam #konversi SAM ke BAM #masukkan input file .sam\n",
    "! samtools sort (masukkan input file) -o 1_HBA2_sorted.bam #sort BAM file #masukkan input file .bam\n",
    "! samtools index (masukkan input file) #buat indeks BAM #masukkan input file sorted.bam"
   ]
  },
  {
   "cell_type": "markdown",
   "id": "nutritional-lightning",
   "metadata": {},
   "source": [
    "### 6.2 Deteksi polimorfisme (SNP)"
   ]
  },
  {
   "cell_type": "code",
   "execution_count": null,
   "id": "orange-following",
   "metadata": {},
   "outputs": [],
   "source": [
    "#Sampel 1\n",
    "! bcftools call --ploidy 1 -m -v -o 1_HBA2_variants.vcf (masukkan input file) #pemanggilan variasi #masukan input file .bcf"
   ]
  },
  {
   "cell_type": "markdown",
   "id": "billion-fundamentals",
   "metadata": {},
   "source": [
    "### 6.3 Filter dan laporkan varian SNP dalam VCF (variant calling format)\n",
    "Terakhir, kita melakukan filter untuk memperoleh variasi terakhir."
   ]
  },
  {
   "cell_type": "code",
   "execution_count": null,
   "id": "vertical-discipline",
   "metadata": {},
   "outputs": [],
   "source": [
    "#Sampel 1\n",
    "! vcfutils.pl varFilter (masukkan input file)  > 1_HBA2_final_variants.vcf #pemanggilan variasi #masukkan input file .vcf"
   ]
  },
  {
   "cell_type": "markdown",
   "id": "accredited-sandwich",
   "metadata": {},
   "source": [
    "### 6.4 Melihat variasi pada VCF format"
   ]
  },
  {
   "cell_type": "code",
   "execution_count": null,
   "id": "vulnerable-collect",
   "metadata": {},
   "outputs": [],
   "source": [
    "! cat (masukkan input file) | grep -A10 '#CHROM' #masukkan input file .vcf yang sudah difilter"
   ]
  },
  {
   "cell_type": "markdown",
   "id": "abandoned-shopping",
   "metadata": {},
   "source": [
    "### 6.5 Visualisasi menggunakan IGV app website \n"
   ]
  },
  {
   "cell_type": "markdown",
   "id": "loved-mileage",
   "metadata": {},
   "source": [
    "Kita bisa melihat secara langsung visualisasi pemetaannya melalui IGV. Silahkan akses [laman](https://igv.org/app/) dan ikuti step berikut.\n",
    "* Download file sorted.bam, sorted.bam.bai dan _final_variants.vcf\n",
    "* Menuju laman [IGV app web](https://igv.org/app/)\n",
    "* Atur referensi -> Ganti lokasi kromosom dari all menjadi chr16, pada box di samping chr16 silahkan tulis chr16:222,500-228,000 untuk menunjukkan tepat lokasi gen HBA\n",
    "\n",
    "* Load file -> Tracks ==> Local File ... (silahkan pilih file sorted.bam, sorted.bam.baim dan _final_variants.vcf)"
   ]
  },
  {
   "cell_type": "markdown",
   "id": "federal-spotlight",
   "metadata": {},
   "source": [
    "**Pertanyaan**\n",
    "* Pada posisi keberapa ditemukan adanya Variasi pada sampel 1? dan Sebutkan basa apa saja yang termutasi pada gen HBA2 sampel 1 apabila dibandingkan dengan reference genome? \n",
    "* Apakah ditemukan perbedaan letak variasi pada sampel 1 yang telah di filter dan sebelum di filter ?\n",
    "\n",
    "**Jawaban**\n",
    "* (tuliskan jawaban disini)"
   ]
  },
  {
   "cell_type": "code",
   "execution_count": null,
   "id": "arctic-dover",
   "metadata": {},
   "outputs": [],
   "source": []
  }
 ],
 "metadata": {
  "kernelspec": {
   "display_name": "Python 3",
   "language": "python",
   "name": "python3"
  },
  "language_info": {
   "codemirror_mode": {
    "name": "ipython",
    "version": 3
   },
   "file_extension": ".py",
   "mimetype": "text/x-python",
   "name": "python",
   "nbconvert_exporter": "python",
   "pygments_lexer": "ipython3",
   "version": "3.9.2"
  }
 },
 "nbformat": 4,
 "nbformat_minor": 5
}
