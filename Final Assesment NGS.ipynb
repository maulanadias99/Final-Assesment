{
 "cells": [
  {
   "cell_type": "markdown",
   "id": "verified-third",
   "metadata": {},
   "source": [
    "# Final Assessment\n",
    "**Mohoh dibaca terlebih dahulu:**\n",
    "* Dalam notebook ini anda akan mengerjakan assessment **acara 6**\n",
    "* Waktu yang diberikan adalah **15 Menit** \n",
    "* Anda bebas menulis script/kode yang diinginkan selama itu mengasilkan hasil yang sama dengan clue jawaban. Clue jawaban berupa gambar yang terlampir pada tiap cell dibawah cell kode yang anda tulis.\n",
    "* Gambar yang ada dalam notebook ini merupakan hasil yang diharapkan muncul ketika anda berhasil menulisakan kode yang benar. Gambar ini juga menjadi patokan output kode anda, Sehingga nantinya akan muncul 2 gambar yang serupa ketika anda berhasil running kode yang benar.\n",
    "* Silahkan menjawab pertanyaan yang ada dalam notebook ini lansung pada cell yang disediakan.\n",
    "* Selamat mengerjakan"
   ]
  },
  {
   "cell_type": "code",
   "execution_count": null,
   "id": "advised-mandate",
   "metadata": {},
   "outputs": [],
   "source": [
    "#cek lokasi directory kerja\n",
    "#perhatikan letak data dan file input pada directory\n",
    "#jika lokasi data dan file berbeda dengan directory kerja, \n",
    "#maka pastikan bahwa anda mengakses file dan data yang berada pada directory yang berbeda\n",
    "#cara lainnya adalah memindahkan data dan file input ke directory kerja\n",
    "!pwd"
   ]
  },
  {
   "cell_type": "markdown",
   "id": "manual-coordination",
   "metadata": {},
   "source": [
    "## Next Generation Sequencing & Variant Calling Analysis\n",
    "Dalam acara ini akan dilakukan analisis variant calling hingga mengasilkan output berupa lokasi SNP sequence HBA2 dan visualisasi menggunakan IGV. \n",
    "\n",
    "*Clue: Akan ada 2 lokasi SNP pada sequence HBA2! "
   ]
  },
  {
   "cell_type": "markdown",
   "id": "recorded-potter",
   "metadata": {},
   "source": [
    "### 6.1 Konversi SAM ke (sorted) BAM\n",
    "Silahkan edit kode dibawah ini sehingga mengasilkan output sesuai gambar pada step 6.4"
   ]
  },
  {
   "cell_type": "code",
   "execution_count": 1,
   "id": "theoretical-affairs",
   "metadata": {},
   "outputs": [
    {
     "name": "stdout",
     "output_type": "stream",
     "text": [
      "The history saving thread hit an unexpected error (OperationalError('disk I/O error')).History will not be written to the database.\n",
      "[E::hts_open_format] Failed to open file \"data/1_HBA2.sam\" : No such file or directory\n",
      "samtools view: failed to open \"data/1_HBA2.sam\" for reading: No such file or directory\n"
     ]
    }
   ],
   "source": [
    "#Sampel 1\n",
    "! samtools view -bS dat/1_HBA2.sam > 1_HBA2.bam #konversi SAM ke BAM\n",
    "#! samtools sort 1_HBA2.bam -o 1_HBA2_sorted.bam #sort BAM file\n",
    "#! samtools index 1_HBA2_sorted.bam #buat indeks BAM"
   ]
  },
  {
   "cell_type": "markdown",
   "id": "liberal-claim",
   "metadata": {},
   "source": [
    "### 6.2 Deteksi polimorfisme (SNP)"
   ]
  },
  {
   "cell_type": "code",
   "execution_count": null,
   "id": "collect-might",
   "metadata": {},
   "outputs": [],
   "source": [
    "#Sampel 1\n",
    "! bcftools call --ploidy 1 -m -v -o 1_HBA2_variants.vcf data/1_HBA2_raw.bcf #pemanggilan variasi\n",
    "#! mv *.vcf results/vcf #pindah output .vcf ke folder result"
   ]
  },
  {
   "cell_type": "markdown",
   "id": "logical-arbor",
   "metadata": {},
   "source": [
    "### 6.3 Filter dan laporkan varian SNP dalam VCF (variant calling format)\n",
    "Terakhir, kita melakukan filter untuk memperoleh variasi terakhir."
   ]
  },
  {
   "cell_type": "code",
   "execution_count": null,
   "id": "experimental-amendment",
   "metadata": {},
   "outputs": [],
   "source": [
    "#Sampel 1\n",
    "! vcfutils.pl varFilter 1_HBA2_variants.vcf  > 1_HBA2_final_variants.vcf #pemanggilan variasi\n",
    "#! mv *.vcf results/vcf #pindah output .vcf ke folder result"
   ]
  },
  {
   "cell_type": "markdown",
   "id": "starting-samuel",
   "metadata": {},
   "source": [
    "### 6.4 Melihat variasi pada VCF format"
   ]
  },
  {
   "cell_type": "code",
   "execution_count": null,
   "id": "ranking-biodiversity",
   "metadata": {},
   "outputs": [],
   "source": [
    "! cat 1_HBA2_final_variants.vcf | grep -A10 '#CHROM' "
   ]
  },
  {
   "cell_type": "markdown",
   "id": "understanding-genome",
   "metadata": {},
   "source": [
    "**Pertanyaan**\n",
    "* Pada sekuens keberapa ditemukan adanya Variant calling pada sampel 1? dan basa apa saja yang termutasi pada HBA2 dubandingkan dengan reference genome?\n",
    "\n",
    "**Jawaban**\n",
    "* (tuliskan jawaban disini)"
   ]
  },
  {
   "cell_type": "markdown",
   "id": "supported-devices",
   "metadata": {},
   "source": [
    "### 6.5 Visualisasi menggunakan IGV app website \n",
    "*_Tahap ini bersifat optional, monggo jika dirasa perlu untuk melakukan visualisasi._"
   ]
  },
  {
   "cell_type": "markdown",
   "id": "underlying-seven",
   "metadata": {},
   "source": [
    "Kita bisa melihat secara langsung visualisasi pemetaannya melalui IGV. Silahkan akses [laman](https://igv.org/app/) dan ikuti step berikut.\n",
    "* Download file sorted.bam, sorted.bam.bai dan _final_variants.vcf\n",
    "* Menuju laman [IGV app web](https://igv.org/app/)\n",
    "* Atur referensi -> Ganti lokasi kromosom dari all menjadi chr16, pada box di samping chr16 silahkan tulis chr16:222,500-228,000 untuk menunjukkan tepat lokasi gen HBA\n",
    "\n",
    "* Load file -> Tracks ==> Local File ... (silahkan pilih file sorted.bam, sorted.bam.baim dan _final_variants.vcf)"
   ]
  }
 ],
 "metadata": {
  "kernelspec": {
   "display_name": "Python 3",
   "language": "python",
   "name": "python3"
  },
  "language_info": {
   "codemirror_mode": {
    "name": "ipython",
    "version": 3
   },
   "file_extension": ".py",
   "mimetype": "text/x-python",
   "name": "python",
   "nbconvert_exporter": "python",
   "pygments_lexer": "ipython3",
   "version": "3.9.2"
  }
 },
 "nbformat": 4,
 "nbformat_minor": 5
}
