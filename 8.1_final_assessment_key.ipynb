{
 "cells": [
  {
   "cell_type": "markdown",
   "id": "opening-rates",
   "metadata": {},
   "source": [
    "# Final Assessment\n",
    "**Mohoh dibaca terlebih dahulu:**\n",
    "* Dalam notebook ini anda akan mengerjakan assessment **acara 2, 6, dan 7.**\n",
    "* Waktu yang diberikan adalah **24 jam** terhitung dari **tanggal ... jam ..**\n",
    "* Anda bebas menulis script/kode yang diinginkan selama itu mengasilkan hasil yang sama dengan clue jawaban. Clue jawaban berupa gambar yang terlampir pada tiap cell dibawah cell kode yang anda tulis.\n",
    "* Gambar yang ada dalam notebook ini merupakan hasil yang diharapkan muncul ketika anda berhasil menulisakan kode yang benar. Gambar ini juga menjadi patokan output kode anda, Sehingga nantinya akan muncul 2 gambar yang serupa ketika anda berhasil running kode yang benar.\n",
    "* Silahkan menjawab pertanyaan yang ada dalam notebook ini lansung pada cell yang disediakan.\n",
    "* Selamat mengerjakan"
   ]
  },
  {
   "cell_type": "code",
   "execution_count": 1,
   "id": "marked-trigger",
   "metadata": {},
   "outputs": [
    {
     "name": "stdout",
     "output_type": "stream",
     "text": [
      "/home/ahmadardi/final_assessment\n"
     ]
    }
   ],
   "source": [
    "#cek lokasi directory kerja\n",
    "#perhatikan letak data dan file input pada directory\n",
    "#jika lokasi data dan file berbeda dengan directory kerja, \n",
    "#maka pastikan bahwa anda mengakses file dan data yang berada pada directory yang berbeda\n",
    "#cara lainnya adalah memindahkan data dan file input ke directory kerja\n",
    "!pwd"
   ]
  },
  {
   "cell_type": "markdown",
   "id": "bound-prison",
   "metadata": {},
   "source": [
    "## Acara 2. _Sequence Alignment_\n",
    "Dalam acara ini, akan akan mengerjakan dot plot dan sequence alignment local maupun global. "
   ]
  },
  {
   "cell_type": "markdown",
   "id": "grand-fountain",
   "metadata": {},
   "source": [
    "### 2.1 Dot Plot"
   ]
  },
  {
   "cell_type": "code",
   "execution_count": 2,
   "id": "favorite-raise",
   "metadata": {},
   "outputs": [],
   "source": [
    "# load Library\n",
    "from IPython.display import Image"
   ]
  },
  {
   "cell_type": "markdown",
   "id": "hybrid-amino",
   "metadata": {},
   "source": [
    "**Info terkait sequence yang digunakan**\n",
    "\n",
    "Silahkan klik accession number dibawah ini untuk mengetahui lebih detail.\n",
    "- [NM_000207.3](https://www.ncbi.nlm.nih.gov/nuccore/NM_000207.3/)\n",
    "- [NM_008386.4](https://www.ncbi.nlm.nih.gov/nuccore/NM_008386.4)"
   ]
  },
  {
   "cell_type": "code",
   "execution_count": 3,
   "id": "fatty-massachusetts",
   "metadata": {},
   "outputs": [
    {
     "name": "stdout",
     "output_type": "stream",
     "text": [
      "Draw a threshold dotplot of two sequences\n",
      "Created 01_NM_000207.1.png\n"
     ]
    },
    {
     "data": {
      "image/png": "[encoded data removed]",
      "text/plain": [
       "<IPython.core.display.Image object>"
      ]
     },
     "execution_count": 3,
     "metadata": {},
     "output_type": "execute_result"
    }
   ],
   "source": [
    "#silahkan menuliskan kode anda disini\n",
    "! dotmatcher -windowsize 15 -threshold 35 data/NM_000207.3.fasta data/NM_008386.4.fasta -graph png -goutfile 01_NM_000207\n",
    "Image(filename=\"01_NM_000207.1.png\")"
   ]
  },
  {
   "cell_type": "markdown",
   "id": "lyric-immigration",
   "metadata": {},
   "source": [
    "![hasil dotplot nm](pictures/01_NM_000207_1.png)"
   ]
  },
  {
   "cell_type": "markdown",
   "id": "broken-minute",
   "metadata": {},
   "source": [
    "**Pertanyaan**\n",
    "* Bagaimana interpretasi dari hasil dot plot diatas? apakah terdapat kemiripan antar kedua sequence diatas?\n",
    "\n",
    "**Jawaban**\n",
    "* (Tuliskan jawaban disini)"
   ]
  },
  {
   "cell_type": "markdown",
   "id": "economic-dressing",
   "metadata": {},
   "source": [
    "### 2.2 Sequence Aligmnet - Local and Global Aligment\n",
    "#### Local Alignment menggunakan algoritma Waterman\n",
    "Useful link: http://rna.informatik.uni-freiburg.de/Teaching/index.jsp?toolName=Smith-Waterman"
   ]
  },
  {
   "cell_type": "code",
   "execution_count": 5,
   "id": "multiple-teens",
   "metadata": {},
   "outputs": [
    {
     "name": "stdout",
     "output_type": "stream",
     "text": [
      "Waterman-Eggert local alignment of two sequences\n",
      "########################################\n",
      "# Program: matcher\n",
      "# Rundate: Sun 13 Jun 2021 13:57:46\n",
      "# Commandline: matcher\n",
      "#    [-asequence] data/NM_000207.3.fasta\n",
      "#    [-bsequence] data/NM_008386.4.fasta\n",
      "#    [-outfile] stdout\n",
      "# Align_format: markx0\n",
      "# Report_file: stdout\n",
      "########################################\n",
      "\n",
      "#=======================================\n",
      "#\n",
      "# Aligned_sequences: 2\n",
      "# 1: NM_000207.3\n",
      "# 2: NM_008386.4\n",
      "# Matrix: EDNAFULL\n",
      "# Gap_penalty: 16\n",
      "# Extend_penalty: 4\n",
      "#\n",
      "# Length: 421\n",
      "# Identity:     321/421 (76.2%)\n",
      "# Similarity:   321/421 (76.2%)\n",
      "# Gaps:          15/421 ( 3.6%)\n",
      "# Score: 1133\n",
      "# \n",
      "#\n",
      "#=======================================\n",
      "\n",
      "               10        20        30           40       \n",
      "NM_000 AGCCCTCCAGGACAGGCTGCATCAGAAGAGGCCATCA---AGCAGATCAC\n",
      "       ::::::    :::  :::  :: :  :::: ::::::   ::::: ::: \n",
      "NM_008 AGCCCTTAGTGACCAGCT--ATAATCAGAGACCATCAGCAAGCAGGTCAT\n",
      "            160       170         180       190       200\n",
      "\n",
      "        50        60        70        80        90       \n",
      "NM_000 TGTCCTTCTGCCATGGCCCTGTGGATGCGCCTCCTGCCCCTGCTGGCGCT\n",
      "       :::  :::  : :::::::::: : ::: : :::: ::::::::::: ::\n",
      "NM_008 TGT--TTCAAC-ATGGCCCTGTTGGTGCACTTCCTACCCCTGCTGGCCCT\n",
      "                 210       220       230       240       \n",
      "\n",
      "       100       110       120       130       140       \n",
      "NM_000 GCTGGCCCTCTGGGGACCTGACCCAGCCGCAGCCTTTGTGAACCAACACC\n",
      "       ::: ::::::::::  ::  : ::  ::   :: ::::: :: :: :: :\n",
      "NM_008 GCTTGCCCTCTGGGAGCCCAAACCCACCCAGGCTTTTGTCAAACAGCATC\n",
      "       250       260       270       280       290       \n",
      "\n",
      "       150       160       170       180       190       \n",
      "NM_000 TGTGCGGCTCACACCTGGTGGAAGCTCTCTACCTAGTGTGCGGGGAACGA\n",
      "       : :: ::  : :::::::: :: ::::::::::: ::::: ::::: :: \n",
      "NM_008 TTTGTGGTCCCCACCTGGTAGAGGCTCTCTACCTGGTGTGTGGGGAGCGT\n",
      "       300       310       320       330       340       \n",
      "\n",
      "       200       210       220       230       240       \n",
      "NM_000 GGCTTCTTCTACACACCCAAGACCCGCCGGGAGGCAGAGGACCTGCAGGT\n",
      "       ::::::::::::::::::::: ::::::: :: :  :::::::  :: ::\n",
      "NM_008 GGCTTCTTCTACACACCCAAGTCCCGCCGTGAAGTGGAGGACCCACAAGT\n",
      "       350       360       370       380       390       \n",
      "\n",
      "       250       260       270       280       290       \n",
      "NM_000 GGGGCAGGTGGAGCTGGGCGGGGGCCCTGGTGCAGGCAGCCTGCAGCCCT\n",
      "       ::  ::  :::::::::: ::  :::: :: :       ::: ::: :::\n",
      "NM_008 GGAACAACTGGAGCTGGGAGGAAGCCCCGGGGA------CCTTCAGACCT\n",
      "       400       410       420       430             440 \n",
      "\n",
      "       300       310       320       330       340       \n",
      "NM_000 TGGCCCTGGAGGGGTCCCTGCAGAAGCGTGGCATTGTGGAACAATGCTGT\n",
      "       ::::  :::::: : ::: ::::::::::::::::::::: :: ::::: \n",
      "NM_008 TGGCGTTGGAGGTGGCCCGGCAGAAGCGTGGCATTGTGGATCAGTGCTGC\n",
      "             450       460       470       480       490 \n",
      "\n",
      "       350       360       370       380       390       \n",
      "NM_000 ACCAGCATCTGCTCCCTCTACCAGCTGGAGAACTACTGCAACTAGACGCA\n",
      "       :::::::::::::::::::::::::::::::::::::::::::: : :: \n",
      "NM_008 ACCAGCATCTGCTCCCTCTACCAGCTGGAGAACTACTGCAACTA-AGGCC\n",
      "             500       510       520       530        540\n",
      "\n",
      "       400       410        \n",
      "NM_000 GCCCGCAGGCAGCCCCACACC\n",
      "         :: :   : ::::::: ::\n",
      "NM_008 CACCTCGACCCGCCCCACCCC\n",
      "              550       560 \n",
      "\n",
      "\n",
      "#---------------------------------------\n",
      "#---------------------------------------\n"
     ]
    }
   ],
   "source": [
    "! matcher data/NM_000207.3.fasta data/NM_008386.4.fasta stdout"
   ]
  },
  {
   "cell_type": "markdown",
   "id": "hundred-sauce",
   "metadata": {},
   "source": [
    "**Hasil Scoring local alignment**\n",
    "\n",
    "Gambar dibawah ini hanya sepenggal dari output cell dari kode yang benar.\n",
    "\n",
    "![hasil local alignment](pictures/2.2_sequence_alignmnet.PNG)"
   ]
  },
  {
   "cell_type": "markdown",
   "id": "purple-bearing",
   "metadata": {},
   "source": [
    "#### Global Alignment menggunakan algoritma Needleman-Wunsch"
   ]
  },
  {
   "cell_type": "code",
   "execution_count": 6,
   "id": "responsible-moment",
   "metadata": {},
   "outputs": [
    {
     "name": "stdout",
     "output_type": "stream",
     "text": [
      "########################################\n",
      "# Program: needle\n",
      "# Rundate: Sun 13 Jun 2021 13:58:12\n",
      "# Commandline: needle\n",
      "#    [-asequence] data/NM_000207.3.fasta\n",
      "#    [-bsequence] data/NM_008386.4.fasta\n",
      "#    [-outfile] stdout\n",
      "#    -auto\n",
      "# Align_format: srspair\n",
      "# Report_file: stdout\n",
      "########################################\n",
      "\n",
      "#=======================================\n",
      "#\n",
      "# Aligned_sequences: 2\n",
      "# 1: NM_000207.3\n",
      "# 2: NM_008386.4\n",
      "# Matrix: EDNAFULL\n",
      "# Gap_penalty: 10.0\n",
      "# Extend_penalty: 0.5\n",
      "#\n",
      "# Length: 652\n",
      "# Identity:     351/652 (53.8%)\n",
      "# Similarity:   351/652 (53.8%)\n",
      "# Gaps:         228/652 (35.0%)\n",
      "# Score: 1283.5\n",
      "# \n",
      "#\n",
      "#=======================================\n",
      "\n",
      "NM_000207.3        0 --------------------------------------------------      0\n",
      "                                                                       \n",
      "NM_008386.4        1 ACCAGGCAAGTGTTTGGAAACTGCAGCTTCAGCCCCTCTGGCCATCTGCC     50\n",
      "\n",
      "NM_000207.3        0 --------------------------------------------------      0\n",
      "                                                                       \n",
      "NM_008386.4       51 TACCCACCCCACCTGGAGACCTTAATGGGCCAAACAGCAAAGTCCAGGGG    100\n",
      "\n",
      "NM_000207.3        0 --------------------------------------------------      0\n",
      "                                                                       \n",
      "NM_008386.4      101 GCAGAGAGGAGGTACTTTGGACTATAAAGCTGGTGGGCATCCAGTAACCC    150\n",
      "\n",
      "NM_000207.3        1 --AGCCCTCCAG-GACAGGCTGCATCAGAAGAGGCCAT---CAAGCAGAT     44\n",
      "                       |||||| .|| |||..|||  ||.|..||||.||||   |||||||.|\n",
      "NM_008386.4      151 CCAGCCCT-TAGTGACCAGCT--ATAATCAGAGACCATCAGCAAGCAGGT    197\n",
      "\n",
      "NM_000207.3       45 CACTGTCCTTCTGCCATGGCCCTGTGGATGCGCCTCCTGCCCCTGCTGGC     94\n",
      "                     ||.|||  ||| ..|||||||||||.|.|||.|.||||.|||||||||||\n",
      "NM_008386.4      198 CATTGT--TTC-AACATGGCCCTGTTGGTGCACTTCCTACCCCTGCTGGC    244\n",
      "\n",
      "NM_000207.3       95 GCTGCTGGCCCTCTGGG-GACCTGACCCAGCCGCA-GCCTTTGTGAACCA    142\n",
      "                     .|||||.|||||||||| |.||..|||||  |.|| ||.|||||.||.||\n",
      "NM_008386.4      245 CCTGCTTGCCCTCTGGGAGCCCAAACCCA--CCCAGGCTTTTGTCAAACA    292\n",
      "\n",
      "NM_000207.3      143 ACACCTGTGCGGCTCACACCTGGTGGAAGCTCTCTACCTAGTGTGCGGGG    192\n",
      "                     .||.||.||.||..|.||||||||.||.|||||||||||.|||||.||||\n",
      "NM_008386.4      293 GCATCTTTGTGGTCCCCACCTGGTAGAGGCTCTCTACCTGGTGTGTGGGG    342\n",
      "\n",
      "NM_000207.3      193 AACGAGGCTTCTTCTACACACCCAAGACCCGCCGGGAGGCAGAGGACCTG    242\n",
      "                     |.||.|||||||||||||||||||||.|||||||.||.|..|||||||..\n",
      "NM_008386.4      343 AGCGTGGCTTCTTCTACACACCCAAGTCCCGCCGTGAAGTGGAGGACCCA    392\n",
      "\n",
      "NM_000207.3      243 CAGGTGGGGCAGGTGGAGCTGGGCGGGGGCCCTGGTGCAGGCAGCCTGCA    292\n",
      "                     ||.||||..||..||||||||||.||..||||.||.|      .|||.||\n",
      "NM_008386.4      393 CAAGTGGAACAACTGGAGCTGGGAGGAAGCCCCGGGG------ACCTTCA    436\n",
      "\n",
      "NM_000207.3      293 GCCCTTGGCCCTGGAGGGGTCCCTGCAGAAGCGTGGCATTGTGGAACAAT    342\n",
      "                     |.|||||||..||||||.|.|||.|||||||||||||||||||||.||.|\n",
      "NM_008386.4      437 GACCTTGGCGTTGGAGGTGGCCCGGCAGAAGCGTGGCATTGTGGATCAGT    486\n",
      "\n",
      "NM_000207.3      343 GCTGTACCAGCATCTGCTCCCTCTACCAGCTGGAGAACTACTGCAACTAG    392\n",
      "                     ||||.|||||||||||||||||||||||||||||||||||||||||||| \n",
      "NM_008386.4      487 GCTGCACCAGCATCTGCTCCCTCTACCAGCTGGAGAACTACTGCAACTA-    535\n",
      "\n",
      "NM_000207.3      393 ACGCAGCCCGCAGGCAGCCCCAC----ACCCGCCGCCTC----CTGCACC    434\n",
      "                                    ||.|||||    ||||||| ||.|    |||||  \n",
      "NM_008386.4      536 ---------------AGGCCCACCTCGACCCGCC-CCACCCCTCTGCA--    567\n",
      "\n",
      "NM_000207.3      435 GAGAGAGATGGAATAAAGCCCTTGAACCAGC-------------------    465\n",
      "                            || |||||||.|..|||||..|||                   \n",
      "NM_008386.4      568 -------AT-GAATAAAACTTTTGAATAAGCACCAAAAAAAAAAAAAAAA    609\n",
      "\n",
      "NM_000207.3      465 --    465\n",
      "                       \n",
      "NM_008386.4      610 AA    611\n",
      "\n",
      "\n",
      "#---------------------------------------\n",
      "#---------------------------------------\n"
     ]
    }
   ],
   "source": [
    "! needle data/NM_000207.3.fasta data/NM_008386.4.fasta stdout -auto"
   ]
  },
  {
   "cell_type": "markdown",
   "id": "criminal-february",
   "metadata": {},
   "source": [
    "**Hasil Scoring global alignment**\n",
    "\n",
    "Gambar dibawah ini hanya sepenggal dari output cell dari kode yang benar.\n",
    "\n",
    "![2.3 global alignmrenyt](pictures/2.3_sequence_alignmnet_global.PNG)"
   ]
  },
  {
   "cell_type": "markdown",
   "id": "premium-messaging",
   "metadata": {},
   "source": [
    "**Pertanyaan**\n",
    "* Apakah terdapat perbedaan hasil antara local dan global alignment? Bagaimana kedua alignmnet tersebut menghasilkan hasil yang berbeda? dan bagaimana prinsip dasar local dan global aligment?\n",
    "\n",
    "**Jawaban** \n",
    "* (silahkan menuliskan jawabannya disini)"
   ]
  },
  {
   "cell_type": "markdown",
   "id": "equal-memorial",
   "metadata": {},
   "source": [
    "## 6. NGS with Variant Calling\n",
    "Dalam acara ini akan dilakukan analisis variant calling hingga mengasilkan output berupa lokasi SNP sequence HBA2 dan visualisasi menggunakan IGV. \n",
    "\n",
    "*Clue: Akan ada 2 lokasi SNP pada sequence HBA2! "
   ]
  },
  {
   "cell_type": "markdown",
   "id": "handled-microwave",
   "metadata": {},
   "source": [
    "### 6.1 Konversi SAM ke (sorted) BAM\n",
    "Silahkan edit kode dibawah ini sehingga mengasilkan output sesuai gambar pada step 6.4"
   ]
  },
  {
   "cell_type": "code",
   "execution_count": 8,
   "id": "corresponding-turtle",
   "metadata": {},
   "outputs": [],
   "source": [
    "#Sampel 1\n",
    "! samtools view -bS data/1_HBA2.sam > 1_HBA2.bam #konversi SAM ke BAM\n",
    "! samtools sort 1_HBA2.bam -o 1_HBA2_sorted.bam #sort BAM file\n",
    "! samtools index 1_HBA2_sorted.bam #buat indeks BAM"
   ]
  },
  {
   "cell_type": "markdown",
   "id": "buried-external",
   "metadata": {},
   "source": [
    "### 6.2 Deteksi polimorfisme (SNP)"
   ]
  },
  {
   "cell_type": "code",
   "execution_count": 9,
   "id": "historic-future",
   "metadata": {},
   "outputs": [],
   "source": [
    "#Sampel 1\n",
    "! bcftools call --ploidy 1 -m -v -o 1_HBA2_variants.vcf data/1_HBA2_raw.bcf #pemanggilan variasi\n",
    "#! mv *.vcf results/vcf #pindah output .vcf ke folder result"
   ]
  },
  {
   "cell_type": "markdown",
   "id": "located-pressure",
   "metadata": {},
   "source": [
    "### 6.3 Filter dan laporkan varian SNP dalam VCF (variant calling format)\n",
    "Terakhir, kita melakukan filter untuk memperoleh variasi terakhir."
   ]
  },
  {
   "cell_type": "code",
   "execution_count": 10,
   "id": "silver-editor",
   "metadata": {},
   "outputs": [],
   "source": [
    "#Sampel 1\n",
    "! vcfutils.pl varFilter 1_HBA2_variants.vcf  > 1_HBA2_final_variants.vcf #pemanggilan variasi\n",
    "#! mv *.vcf results/vcf #pindah output .vcf ke folder result"
   ]
  },
  {
   "cell_type": "markdown",
   "id": "manual-pattern",
   "metadata": {},
   "source": [
    "### 6.4 Melihat variasi pada VCF format"
   ]
  },
  {
   "cell_type": "code",
   "execution_count": 12,
   "id": "random-space",
   "metadata": {},
   "outputs": [
    {
     "name": "stdout",
     "output_type": "stream",
     "text": [
      "#CHROM\tPOS\tID\tREF\tALT\tQUAL\tFILTER\tINFO\tFORMAT\tresults/bam/1_HBA2_sorted.bam\n",
      "chr16\t222869\t.\tG\tC\t176\t.\tDP=250;VDB=0;SGB=-0.693147;RPB=1;MQB=1;BQB=1;MQ0F=0.356;AC=1;AN=1;DP4=1,0,245,0;MQ=18\tGT:PL\t1:203,0\n",
      "chr16\t223706\t.\tA\tG\t225\t.\tDP=194;VDB=9.21483e-26;SGB=-0.693147;MQSB=5.8622e-08;MQ0F=0;AC=1;AN=1;DP4=0,0,66,100;MQ=50\tGT:PL\t1:255,0\n"
     ]
    }
   ],
   "source": [
    "! cat 1_HBA2_final_variants.vcf | grep -A10 '#CHROM' "
   ]
  },
  {
   "cell_type": "markdown",
   "id": "greater-bread",
   "metadata": {},
   "source": [
    "![final variant vcf](pictures/6_final_variants_vcf.PNG)"
   ]
  },
  {
   "cell_type": "markdown",
   "id": "hydraulic-ridge",
   "metadata": {},
   "source": [
    "**Pertanyaan**\n",
    "* Pada sekuens keberapa ditemukan adanya Variant calling pada sampel 1? dan basa apa saja yang termutasi pada HBA2 dubandingkan dengan reference genome?\n",
    "\n",
    "**Jawaban**\n",
    "* (tuliskan jawaban disini)"
   ]
  },
  {
   "cell_type": "markdown",
   "id": "different-listing",
   "metadata": {},
   "source": [
    "### 6.5 Visualisasi menggunakan IGV app website \n",
    "*_Tahap ini bersifat optional, monggo jika dirasa perlu untuk melakukan visualisasi._"
   ]
  },
  {
   "cell_type": "markdown",
   "id": "functional-bread",
   "metadata": {},
   "source": [
    "Kita bisa melihat secara langsung visualisasi pemetaannya melalui IGV. Silahkan akses [laman](https://igv.org/app/) dan ikuti step berikut.\n",
    "* Download file sorted.bam, sorted.bam.bai dan _final_variants.vcf\n",
    "* Menuju laman [IGV app web](https://igv.org/app/)\n",
    "* Atur referensi -> Ganti lokasi kromosom dari all menjadi chr16, pada box di samping chr16 silahkan tulis chr16:222,500-228,000 untuk menunjukkan tepat lokasi gen HBA\n",
    "\n",
    "* Load file -> Tracks ==> Local File ... (silahkan pilih file sorted.bam, sorted.bam.baim dan _final_variants.vcf)"
   ]
  },
  {
   "cell_type": "markdown",
   "id": "marked-evans",
   "metadata": {},
   "source": [
    "![visualisasi variant calling IGV](pictures/6.1_igv_visualization.PNG)"
   ]
  },
  {
   "cell_type": "markdown",
   "id": "orange-active",
   "metadata": {},
   "source": [
    "## Acara 7 Machine Learning in Bionformatics\n",
    "\n",
    "- Dataset: **SERI A Data Praktikum Metabolomic.xlsx - NMR data Blast.csv** dalam directory **BIC3007**\n",
    "- Terdapat 15 sample dengan 17 features\n",
    "- Metadata:\n",
    "    - Status = Tahan & rentan"
   ]
  },
  {
   "cell_type": "code",
   "execution_count": 14,
   "id": "accomplished-chemistry",
   "metadata": {},
   "outputs": [
    {
     "ename": "ModuleNotFoundError",
     "evalue": "No module named 'pandas'",
     "output_type": "error",
     "traceback": [
      "\u001b[0;31m---------------------------------------------------------------------------\u001b[0m",
      "\u001b[0;31mModuleNotFoundError\u001b[0m                       Traceback (most recent call last)",
      "\u001b[0;32m<ipython-input-14-96f200c33023>\u001b[0m in \u001b[0;36m<module>\u001b[0;34m\u001b[0m\n\u001b[1;32m      1\u001b[0m \u001b[0;31m# Load Library\u001b[0m\u001b[0;34m\u001b[0m\u001b[0;34m\u001b[0m\u001b[0;34m\u001b[0m\u001b[0m\n\u001b[0;32m----> 2\u001b[0;31m \u001b[0;32mimport\u001b[0m \u001b[0mpandas\u001b[0m \u001b[0;32mas\u001b[0m \u001b[0mpd\u001b[0m\u001b[0;34m\u001b[0m\u001b[0;34m\u001b[0m\u001b[0m\n\u001b[0m\u001b[1;32m      3\u001b[0m \u001b[0;32mimport\u001b[0m \u001b[0mnumpy\u001b[0m \u001b[0;32mas\u001b[0m \u001b[0mnp\u001b[0m\u001b[0;34m\u001b[0m\u001b[0;34m\u001b[0m\u001b[0m\n\u001b[1;32m      4\u001b[0m \u001b[0;34m\u001b[0m\u001b[0m\n\u001b[1;32m      5\u001b[0m \u001b[0;32mimport\u001b[0m \u001b[0mseaborn\u001b[0m \u001b[0;32mas\u001b[0m \u001b[0msns\u001b[0m\u001b[0;34m\u001b[0m\u001b[0;34m\u001b[0m\u001b[0m\n",
      "\u001b[0;31mModuleNotFoundError\u001b[0m: No module named 'pandas'"
     ]
    }
   ],
   "source": [
    "# Load Library\n",
    "import pandas as pd\n",
    "import numpy as np\n",
    "\n",
    "import seaborn as sns\n",
    "import matplotlib as mpl\n",
    "import matplotlib.pyplot as plt\n",
    "\n",
    "from sklearn import datasets\n",
    "from sklearn import preprocessing\n",
    "from sklearn.decomposition import PCA\n",
    "from sklearn.cluster import KMeans"
   ]
  },
  {
   "cell_type": "code",
   "execution_count": 42,
   "id": "analyzed-nudist",
   "metadata": {},
   "outputs": [
    {
     "data": {
      "text/html": [
       "<div>\n",
       "<style scoped>\n",
       "    .dataframe tbody tr th:only-of-type {\n",
       "        vertical-align: middle;\n",
       "    }\n",
       "\n",
       "    .dataframe tbody tr th {\n",
       "        vertical-align: top;\n",
       "    }\n",
       "\n",
       "    .dataframe thead th {\n",
       "        text-align: right;\n",
       "    }\n",
       "</style>\n",
       "<table border=\"1\" class=\"dataframe\">\n",
       "  <thead>\n",
       "    <tr style=\"text-align: right;\">\n",
       "      <th></th>\n",
       "      <th>Sample</th>\n",
       "      <th>Status</th>\n",
       "      <th>Lactate</th>\n",
       "      <th>Alanine</th>\n",
       "      <th>Acetate</th>\n",
       "      <th>Glutamate</th>\n",
       "      <th>Methionine</th>\n",
       "      <th>Asparagine</th>\n",
       "      <th>Inositol</th>\n",
       "      <th>O-Acetyl carnosine</th>\n",
       "      <th>Glicero Phospo Choline</th>\n",
       "      <th>Fructose</th>\n",
       "      <th>Beta-Glucose</th>\n",
       "      <th>Trigonelline</th>\n",
       "      <th>Alpha glucose</th>\n",
       "      <th>Fumarate</th>\n",
       "      <th>Tyrosine</th>\n",
       "      <th>NADPH</th>\n",
       "      <th>Phenyl alanine</th>\n",
       "    </tr>\n",
       "  </thead>\n",
       "  <tbody>\n",
       "    <tr>\n",
       "      <th>0</th>\n",
       "      <td>AE-1</td>\n",
       "      <td>Tahan</td>\n",
       "      <td>0.94</td>\n",
       "      <td>3.16</td>\n",
       "      <td>0.18</td>\n",
       "      <td>0.85</td>\n",
       "      <td>1.53</td>\n",
       "      <td>0.18</td>\n",
       "      <td>0.95</td>\n",
       "      <td>44.80</td>\n",
       "      <td>2.34</td>\n",
       "      <td>3626.02</td>\n",
       "      <td>4.30</td>\n",
       "      <td>2.63</td>\n",
       "      <td>3.23</td>\n",
       "      <td>1.81</td>\n",
       "      <td>2.07</td>\n",
       "      <td>0.36</td>\n",
       "      <td>0.61</td>\n",
       "    </tr>\n",
       "    <tr>\n",
       "      <th>1</th>\n",
       "      <td>AE-2</td>\n",
       "      <td>Tahan</td>\n",
       "      <td>0.72</td>\n",
       "      <td>4.51</td>\n",
       "      <td>0.35</td>\n",
       "      <td>0.60</td>\n",
       "      <td>2.63</td>\n",
       "      <td>0.46</td>\n",
       "      <td>0.50</td>\n",
       "      <td>26.05</td>\n",
       "      <td>2.96</td>\n",
       "      <td>3715.50</td>\n",
       "      <td>7.93</td>\n",
       "      <td>5.15</td>\n",
       "      <td>5.03</td>\n",
       "      <td>0.68</td>\n",
       "      <td>0.61</td>\n",
       "      <td>1.37</td>\n",
       "      <td>0.62</td>\n",
       "    </tr>\n",
       "    <tr>\n",
       "      <th>2</th>\n",
       "      <td>AE-3</td>\n",
       "      <td>Tahan</td>\n",
       "      <td>0.91</td>\n",
       "      <td>3.05</td>\n",
       "      <td>0.21</td>\n",
       "      <td>0.24</td>\n",
       "      <td>1.05</td>\n",
       "      <td>0.32</td>\n",
       "      <td>0.60</td>\n",
       "      <td>26.20</td>\n",
       "      <td>2.12</td>\n",
       "      <td>3118.78</td>\n",
       "      <td>1.22</td>\n",
       "      <td>2.07</td>\n",
       "      <td>2.28</td>\n",
       "      <td>0.55</td>\n",
       "      <td>1.01</td>\n",
       "      <td>1.02</td>\n",
       "      <td>0.61</td>\n",
       "    </tr>\n",
       "    <tr>\n",
       "      <th>3</th>\n",
       "      <td>BF-1</td>\n",
       "      <td>Rentan</td>\n",
       "      <td>4.59</td>\n",
       "      <td>0.04</td>\n",
       "      <td>0.12</td>\n",
       "      <td>0.32</td>\n",
       "      <td>0.09</td>\n",
       "      <td>0.03</td>\n",
       "      <td>0.22</td>\n",
       "      <td>1.57</td>\n",
       "      <td>0.47</td>\n",
       "      <td>399.13</td>\n",
       "      <td>1.53</td>\n",
       "      <td>0.11</td>\n",
       "      <td>0.11</td>\n",
       "      <td>0.04</td>\n",
       "      <td>0.01</td>\n",
       "      <td>0.03</td>\n",
       "      <td>0.05</td>\n",
       "    </tr>\n",
       "    <tr>\n",
       "      <th>4</th>\n",
       "      <td>BF-2</td>\n",
       "      <td>Rentan</td>\n",
       "      <td>4.06</td>\n",
       "      <td>0.06</td>\n",
       "      <td>0.12</td>\n",
       "      <td>0.17</td>\n",
       "      <td>0.03</td>\n",
       "      <td>0.03</td>\n",
       "      <td>0.22</td>\n",
       "      <td>1.24</td>\n",
       "      <td>0.15</td>\n",
       "      <td>480.27</td>\n",
       "      <td>1.34</td>\n",
       "      <td>0.15</td>\n",
       "      <td>0.17</td>\n",
       "      <td>0.01</td>\n",
       "      <td>0.06</td>\n",
       "      <td>0.03</td>\n",
       "      <td>0.03</td>\n",
       "    </tr>\n",
       "  </tbody>\n",
       "</table>\n",
       "</div>"
      ],
      "text/plain": [
       "  Sample  Status  Lactate  Alanine  Acetate  Glutamate  Methionine  \\\n",
       "0   AE-1   Tahan     0.94     3.16     0.18       0.85        1.53   \n",
       "1   AE-2   Tahan     0.72     4.51     0.35       0.60        2.63   \n",
       "2   AE-3   Tahan     0.91     3.05     0.21       0.24        1.05   \n",
       "3   BF-1  Rentan     4.59     0.04     0.12       0.32        0.09   \n",
       "4   BF-2  Rentan     4.06     0.06     0.12       0.17        0.03   \n",
       "\n",
       "   Asparagine  Inositol  O-Acetyl carnosine  Glicero Phospo Choline  Fructose  \\\n",
       "0        0.18      0.95               44.80                    2.34   3626.02   \n",
       "1        0.46      0.50               26.05                    2.96   3715.50   \n",
       "2        0.32      0.60               26.20                    2.12   3118.78   \n",
       "3        0.03      0.22                1.57                    0.47    399.13   \n",
       "4        0.03      0.22                1.24                    0.15    480.27   \n",
       "\n",
       "   Beta-Glucose  Trigonelline  Alpha glucose  Fumarate  Tyrosine  NADPH  \\\n",
       "0          4.30          2.63           3.23      1.81      2.07   0.36   \n",
       "1          7.93          5.15           5.03      0.68      0.61   1.37   \n",
       "2          1.22          2.07           2.28      0.55      1.01   1.02   \n",
       "3          1.53          0.11           0.11      0.04      0.01   0.03   \n",
       "4          1.34          0.15           0.17      0.01      0.06   0.03   \n",
       "\n",
       "   Phenyl alanine  \n",
       "0            0.61  \n",
       "1            0.62  \n",
       "2            0.61  \n",
       "3            0.05  \n",
       "4            0.03  "
      ]
     },
     "execution_count": 42,
     "metadata": {},
     "output_type": "execute_result"
    }
   ],
   "source": [
    "# load data\n",
    "raw = pd.read_csv('BIC3007/SERI A Data Praktikum Metabolomic.xlsx - NMR data Blast.csv') #load disni #!!!\n",
    "raw.head() #print 5 data awal dengan index mulai dari 0"
   ]
  },
  {
   "cell_type": "markdown",
   "id": "permanent-hindu",
   "metadata": {},
   "source": [
    "![7.1_load_dataset_head](BIC3007/7.1_load_dataset_head.PNG)"
   ]
  },
  {
   "cell_type": "code",
   "execution_count": 43,
   "id": "metallic-cover",
   "metadata": {},
   "outputs": [
    {
     "data": {
      "text/plain": [
       "Index(['Sample', 'Status', 'Lactate', 'Alanine', 'Acetate', 'Glutamate',\n",
       "       'Methionine', 'Asparagine', 'Inositol', 'O-Acetyl carnosine',\n",
       "       'Glicero Phospo Choline', 'Fructose', 'Beta-Glucose', 'Trigonelline',\n",
       "       'Alpha glucose', 'Fumarate', 'Tyrosine', 'NADPH', 'Phenyl alanine'],\n",
       "      dtype='object')"
      ]
     },
     "execution_count": 43,
     "metadata": {},
     "output_type": "execute_result"
    }
   ],
   "source": [
    "#Print nama column yang ada dalam DataFrame raw\n",
    "raw.columns "
   ]
  },
  {
   "cell_type": "code",
   "execution_count": 44,
   "id": "streaming-synthetic",
   "metadata": {},
   "outputs": [
    {
     "data": {
      "text/html": [
       "<div>\n",
       "<style scoped>\n",
       "    .dataframe tbody tr th:only-of-type {\n",
       "        vertical-align: middle;\n",
       "    }\n",
       "\n",
       "    .dataframe tbody tr th {\n",
       "        vertical-align: top;\n",
       "    }\n",
       "\n",
       "    .dataframe thead th {\n",
       "        text-align: right;\n",
       "    }\n",
       "</style>\n",
       "<table border=\"1\" class=\"dataframe\">\n",
       "  <thead>\n",
       "    <tr style=\"text-align: right;\">\n",
       "      <th></th>\n",
       "      <th>Sample</th>\n",
       "      <th>Status</th>\n",
       "    </tr>\n",
       "  </thead>\n",
       "  <tbody>\n",
       "    <tr>\n",
       "      <th>0</th>\n",
       "      <td>AE-1</td>\n",
       "      <td>Tahan</td>\n",
       "    </tr>\n",
       "    <tr>\n",
       "      <th>1</th>\n",
       "      <td>AE-2</td>\n",
       "      <td>Tahan</td>\n",
       "    </tr>\n",
       "    <tr>\n",
       "      <th>2</th>\n",
       "      <td>AE-3</td>\n",
       "      <td>Tahan</td>\n",
       "    </tr>\n",
       "  </tbody>\n",
       "</table>\n",
       "</div>"
      ],
      "text/plain": [
       "  Sample Status\n",
       "0   AE-1  Tahan\n",
       "1   AE-2  Tahan\n",
       "2   AE-3  Tahan"
      ]
     },
     "execution_count": 44,
     "metadata": {},
     "output_type": "execute_result"
    }
   ],
   "source": [
    "metadata = raw[['Sample','Status']] #print value column Sample dan Status\n",
    "metadata.head(3)"
   ]
  },
  {
   "cell_type": "markdown",
   "id": "searching-botswana",
   "metadata": {},
   "source": [
    "### Standarize the data and EDA"
   ]
  },
  {
   "cell_type": "code",
   "execution_count": 45,
   "id": "divided-waste",
   "metadata": {},
   "outputs": [
    {
     "data": {
      "text/html": [
       "<div>\n",
       "<style scoped>\n",
       "    .dataframe tbody tr th:only-of-type {\n",
       "        vertical-align: middle;\n",
       "    }\n",
       "\n",
       "    .dataframe tbody tr th {\n",
       "        vertical-align: top;\n",
       "    }\n",
       "\n",
       "    .dataframe thead th {\n",
       "        text-align: right;\n",
       "    }\n",
       "</style>\n",
       "<table border=\"1\" class=\"dataframe\">\n",
       "  <thead>\n",
       "    <tr style=\"text-align: right;\">\n",
       "      <th></th>\n",
       "      <th>Sample</th>\n",
       "      <th>Status</th>\n",
       "      <th>Lactate</th>\n",
       "      <th>Alanine</th>\n",
       "      <th>Acetate</th>\n",
       "      <th>Glutamate</th>\n",
       "      <th>Methionine</th>\n",
       "      <th>Asparagine</th>\n",
       "      <th>Inositol</th>\n",
       "      <th>O-Acetyl carnosine</th>\n",
       "      <th>Glicero Phospo Choline</th>\n",
       "      <th>Fructose</th>\n",
       "      <th>Beta-Glucose</th>\n",
       "      <th>Trigonelline</th>\n",
       "      <th>Alpha glucose</th>\n",
       "      <th>Fumarate</th>\n",
       "      <th>Tyrosine</th>\n",
       "      <th>NADPH</th>\n",
       "      <th>Phenyl alanine</th>\n",
       "    </tr>\n",
       "  </thead>\n",
       "  <tbody>\n",
       "    <tr>\n",
       "      <th>0</th>\n",
       "      <td>AE-1</td>\n",
       "      <td>Tahan</td>\n",
       "      <td>-0.596215</td>\n",
       "      <td>1.663583</td>\n",
       "      <td>0.862723</td>\n",
       "      <td>1.848864</td>\n",
       "      <td>1.495830</td>\n",
       "      <td>0.032152</td>\n",
       "      <td>2.876083</td>\n",
       "      <td>2.854552</td>\n",
       "      <td>1.790615</td>\n",
       "      <td>2.093328</td>\n",
       "      <td>1.123849</td>\n",
       "      <td>1.328665</td>\n",
       "      <td>1.677697</td>\n",
       "      <td>3.390333</td>\n",
       "      <td>2.218184</td>\n",
       "      <td>0.331034</td>\n",
       "      <td>1.982360</td>\n",
       "    </tr>\n",
       "    <tr>\n",
       "      <th>1</th>\n",
       "      <td>AE-2</td>\n",
       "      <td>Tahan</td>\n",
       "      <td>-0.633578</td>\n",
       "      <td>2.614671</td>\n",
       "      <td>2.844655</td>\n",
       "      <td>0.821717</td>\n",
       "      <td>3.043241</td>\n",
       "      <td>2.282813</td>\n",
       "      <td>1.032440</td>\n",
       "      <td>1.428391</td>\n",
       "      <td>2.465087</td>\n",
       "      <td>2.166523</td>\n",
       "      <td>3.119726</td>\n",
       "      <td>3.146384</td>\n",
       "      <td>2.912979</td>\n",
       "      <td>0.923975</td>\n",
       "      <td>0.129696</td>\n",
       "      <td>2.889790</td>\n",
       "      <td>2.025331</td>\n",
       "    </tr>\n",
       "    <tr>\n",
       "      <th>2</th>\n",
       "      <td>AE-3</td>\n",
       "      <td>Tahan</td>\n",
       "      <td>-0.601310</td>\n",
       "      <td>1.586087</td>\n",
       "      <td>1.212476</td>\n",
       "      <td>-0.657374</td>\n",
       "      <td>0.820597</td>\n",
       "      <td>1.157482</td>\n",
       "      <td>1.442139</td>\n",
       "      <td>1.439801</td>\n",
       "      <td>1.551286</td>\n",
       "      <td>1.678399</td>\n",
       "      <td>-0.569622</td>\n",
       "      <td>0.924728</td>\n",
       "      <td>1.025742</td>\n",
       "      <td>0.640235</td>\n",
       "      <td>0.701884</td>\n",
       "      <td>2.003093</td>\n",
       "      <td>1.982360</td>\n",
       "    </tr>\n",
       "  </tbody>\n",
       "</table>\n",
       "</div>"
      ],
      "text/plain": [
       "  Sample Status   Lactate   Alanine   Acetate  Glutamate  Methionine  \\\n",
       "0   AE-1  Tahan -0.596215  1.663583  0.862723   1.848864    1.495830   \n",
       "1   AE-2  Tahan -0.633578  2.614671  2.844655   0.821717    3.043241   \n",
       "2   AE-3  Tahan -0.601310  1.586087  1.212476  -0.657374    0.820597   \n",
       "\n",
       "   Asparagine  Inositol  O-Acetyl carnosine  Glicero Phospo Choline  Fructose  \\\n",
       "0    0.032152  2.876083            2.854552                1.790615  2.093328   \n",
       "1    2.282813  1.032440            1.428391                2.465087  2.166523   \n",
       "2    1.157482  1.442139            1.439801                1.551286  1.678399   \n",
       "\n",
       "   Beta-Glucose  Trigonelline  Alpha glucose  Fumarate  Tyrosine     NADPH  \\\n",
       "0      1.123849      1.328665       1.677697  3.390333  2.218184  0.331034   \n",
       "1      3.119726      3.146384       2.912979  0.923975  0.129696  2.889790   \n",
       "2     -0.569622      0.924728       1.025742  0.640235  0.701884  2.003093   \n",
       "\n",
       "   Phenyl alanine  \n",
       "0        1.982360  \n",
       "1        2.025331  \n",
       "2        1.982360  "
      ]
     },
     "execution_count": 45,
     "metadata": {},
     "output_type": "execute_result"
    }
   ],
   "source": [
    "# Data yang memiliki pencilan akan distandarisasi untuk meminimalkan range data dan pencilan\n",
    "raw_drop = raw.drop(columns=['Sample','Status']) #drop/menghilankan column Sample and Status\n",
    "\n",
    "#Standarisasi\n",
    "scaler = preprocessing.StandardScaler()\n",
    "scaler.fit(raw_drop)\n",
    "raw_scaled_array = scaler.transform(raw_drop)\n",
    "raw_scaled = pd.DataFrame(raw_scaled_array, columns = raw.columns[2:19])\n",
    "\n",
    "#merging 2 DataFrame menjadi 1 DataFrame\n",
    "merge_raw = pd.concat([raw[['Sample','Status']], raw_scaled], axis=1) #merged 2 dataframe\n",
    "merge_raw.head(3)"
   ]
  },
  {
   "cell_type": "code",
   "execution_count": 46,
   "id": "outside-parent",
   "metadata": {},
   "outputs": [],
   "source": [
    "#Perbandingan data summary sebelum dan sesudah standarisasi\n",
    "#display(raw.describe()) #hapus tanda \"#\" untuk running kode display()\n",
    "#display(merge_raw.describe())"
   ]
  },
  {
   "cell_type": "code",
   "execution_count": 47,
   "id": "seven-farmer",
   "metadata": {},
   "outputs": [
    {
     "data": {
      "text/html": [
       "<div>\n",
       "<style scoped>\n",
       "    .dataframe tbody tr th:only-of-type {\n",
       "        vertical-align: middle;\n",
       "    }\n",
       "\n",
       "    .dataframe tbody tr th {\n",
       "        vertical-align: top;\n",
       "    }\n",
       "\n",
       "    .dataframe thead th {\n",
       "        text-align: right;\n",
       "    }\n",
       "</style>\n",
       "<table border=\"1\" class=\"dataframe\">\n",
       "  <thead>\n",
       "    <tr style=\"text-align: right;\">\n",
       "      <th></th>\n",
       "      <th>Status</th>\n",
       "      <th>Lactate</th>\n",
       "      <th>Alanine</th>\n",
       "      <th>Acetate</th>\n",
       "      <th>Glutamate</th>\n",
       "      <th>Methionine</th>\n",
       "      <th>Asparagine</th>\n",
       "      <th>Inositol</th>\n",
       "      <th>O-Acetyl carnosine</th>\n",
       "      <th>Glicero Phospo Choline</th>\n",
       "      <th>Fructose</th>\n",
       "      <th>Beta-Glucose</th>\n",
       "      <th>Trigonelline</th>\n",
       "      <th>Alpha glucose</th>\n",
       "      <th>Fumarate</th>\n",
       "      <th>Tyrosine</th>\n",
       "      <th>NADPH</th>\n",
       "      <th>Phenyl alanine</th>\n",
       "    </tr>\n",
       "    <tr>\n",
       "      <th>Sample</th>\n",
       "      <th></th>\n",
       "      <th></th>\n",
       "      <th></th>\n",
       "      <th></th>\n",
       "      <th></th>\n",
       "      <th></th>\n",
       "      <th></th>\n",
       "      <th></th>\n",
       "      <th></th>\n",
       "      <th></th>\n",
       "      <th></th>\n",
       "      <th></th>\n",
       "      <th></th>\n",
       "      <th></th>\n",
       "      <th></th>\n",
       "      <th></th>\n",
       "      <th></th>\n",
       "      <th></th>\n",
       "    </tr>\n",
       "  </thead>\n",
       "  <tbody>\n",
       "    <tr>\n",
       "      <th>AE-1</th>\n",
       "      <td>Tahan</td>\n",
       "      <td>-0.596215</td>\n",
       "      <td>1.663583</td>\n",
       "      <td>0.862723</td>\n",
       "      <td>1.848864</td>\n",
       "      <td>1.495830</td>\n",
       "      <td>0.032152</td>\n",
       "      <td>2.876083</td>\n",
       "      <td>2.854552</td>\n",
       "      <td>1.790615</td>\n",
       "      <td>2.093328</td>\n",
       "      <td>1.123849</td>\n",
       "      <td>1.328665</td>\n",
       "      <td>1.677697</td>\n",
       "      <td>3.390333</td>\n",
       "      <td>2.218184</td>\n",
       "      <td>0.331034</td>\n",
       "      <td>1.982360</td>\n",
       "    </tr>\n",
       "    <tr>\n",
       "      <th>AE-2</th>\n",
       "      <td>Tahan</td>\n",
       "      <td>-0.633578</td>\n",
       "      <td>2.614671</td>\n",
       "      <td>2.844655</td>\n",
       "      <td>0.821717</td>\n",
       "      <td>3.043241</td>\n",
       "      <td>2.282813</td>\n",
       "      <td>1.032440</td>\n",
       "      <td>1.428391</td>\n",
       "      <td>2.465087</td>\n",
       "      <td>2.166523</td>\n",
       "      <td>3.119726</td>\n",
       "      <td>3.146384</td>\n",
       "      <td>2.912979</td>\n",
       "      <td>0.923975</td>\n",
       "      <td>0.129696</td>\n",
       "      <td>2.889790</td>\n",
       "      <td>2.025331</td>\n",
       "    </tr>\n",
       "    <tr>\n",
       "      <th>AE-3</th>\n",
       "      <td>Tahan</td>\n",
       "      <td>-0.601310</td>\n",
       "      <td>1.586087</td>\n",
       "      <td>1.212476</td>\n",
       "      <td>-0.657374</td>\n",
       "      <td>0.820597</td>\n",
       "      <td>1.157482</td>\n",
       "      <td>1.442139</td>\n",
       "      <td>1.439801</td>\n",
       "      <td>1.551286</td>\n",
       "      <td>1.678399</td>\n",
       "      <td>-0.569622</td>\n",
       "      <td>0.924728</td>\n",
       "      <td>1.025742</td>\n",
       "      <td>0.640235</td>\n",
       "      <td>0.701884</td>\n",
       "      <td>2.003093</td>\n",
       "      <td>1.982360</td>\n",
       "    </tr>\n",
       "    <tr>\n",
       "      <th>BF-1</th>\n",
       "      <td>Rentan</td>\n",
       "      <td>0.023663</td>\n",
       "      <td>-0.534488</td>\n",
       "      <td>0.163218</td>\n",
       "      <td>-0.328687</td>\n",
       "      <td>-0.529871</td>\n",
       "      <td>-1.173559</td>\n",
       "      <td>-0.114716</td>\n",
       "      <td>-0.433603</td>\n",
       "      <td>-0.243680</td>\n",
       "      <td>-0.546311</td>\n",
       "      <td>-0.399175</td>\n",
       "      <td>-0.489053</td>\n",
       "      <td>-0.463460</td>\n",
       "      <td>-0.472901</td>\n",
       "      <td>-0.728587</td>\n",
       "      <td>-0.504996</td>\n",
       "      <td>-0.423973</td>\n",
       "    </tr>\n",
       "    <tr>\n",
       "      <th>BF-2</th>\n",
       "      <td>Rentan</td>\n",
       "      <td>-0.066347</td>\n",
       "      <td>-0.520398</td>\n",
       "      <td>0.163218</td>\n",
       "      <td>-0.944975</td>\n",
       "      <td>-0.614275</td>\n",
       "      <td>-1.173559</td>\n",
       "      <td>-0.114716</td>\n",
       "      <td>-0.458704</td>\n",
       "      <td>-0.591795</td>\n",
       "      <td>-0.479937</td>\n",
       "      <td>-0.503643</td>\n",
       "      <td>-0.460200</td>\n",
       "      <td>-0.422284</td>\n",
       "      <td>-0.538379</td>\n",
       "      <td>-0.657063</td>\n",
       "      <td>-0.504996</td>\n",
       "      <td>-0.509914</td>\n",
       "    </tr>\n",
       "  </tbody>\n",
       "</table>\n",
       "</div>"
      ],
      "text/plain": [
       "        Status   Lactate   Alanine   Acetate  Glutamate  Methionine  \\\n",
       "Sample                                                                \n",
       "AE-1     Tahan -0.596215  1.663583  0.862723   1.848864    1.495830   \n",
       "AE-2     Tahan -0.633578  2.614671  2.844655   0.821717    3.043241   \n",
       "AE-3     Tahan -0.601310  1.586087  1.212476  -0.657374    0.820597   \n",
       "BF-1    Rentan  0.023663 -0.534488  0.163218  -0.328687   -0.529871   \n",
       "BF-2    Rentan -0.066347 -0.520398  0.163218  -0.944975   -0.614275   \n",
       "\n",
       "        Asparagine  Inositol  O-Acetyl carnosine  Glicero Phospo Choline  \\\n",
       "Sample                                                                     \n",
       "AE-1      0.032152  2.876083            2.854552                1.790615   \n",
       "AE-2      2.282813  1.032440            1.428391                2.465087   \n",
       "AE-3      1.157482  1.442139            1.439801                1.551286   \n",
       "BF-1     -1.173559 -0.114716           -0.433603               -0.243680   \n",
       "BF-2     -1.173559 -0.114716           -0.458704               -0.591795   \n",
       "\n",
       "        Fructose  Beta-Glucose  Trigonelline  Alpha glucose  Fumarate  \\\n",
       "Sample                                                                  \n",
       "AE-1    2.093328      1.123849      1.328665       1.677697  3.390333   \n",
       "AE-2    2.166523      3.119726      3.146384       2.912979  0.923975   \n",
       "AE-3    1.678399     -0.569622      0.924728       1.025742  0.640235   \n",
       "BF-1   -0.546311     -0.399175     -0.489053      -0.463460 -0.472901   \n",
       "BF-2   -0.479937     -0.503643     -0.460200      -0.422284 -0.538379   \n",
       "\n",
       "        Tyrosine     NADPH  Phenyl alanine  \n",
       "Sample                                      \n",
       "AE-1    2.218184  0.331034        1.982360  \n",
       "AE-2    0.129696  2.889790        2.025331  \n",
       "AE-3    0.701884  2.003093        1.982360  \n",
       "BF-1   -0.728587 -0.504996       -0.423973  \n",
       "BF-2   -0.657063 -0.504996       -0.509914  "
      ]
     },
     "execution_count": 47,
     "metadata": {},
     "output_type": "execute_result"
    }
   ],
   "source": [
    "#Indexing, mengubah Column Sample menjadi index\n",
    "#Bandingkan antara merge_raw dengan indexed. Perhatikan column paling kiri/index\n",
    "indexed = merge_raw.set_index('Sample')\n",
    "indexed.head()"
   ]
  },
  {
   "cell_type": "markdown",
   "id": "standard-falls",
   "metadata": {},
   "source": [
    "![7.4_print_standarized_indexed_head](BIC3007/7.4_print_standarized_indexed_head.PNG)"
   ]
  },
  {
   "cell_type": "code",
   "execution_count": 48,
   "id": "bound-dragon",
   "metadata": {},
   "outputs": [
    {
     "data": {
      "image/png": "[encoded data removed]",
      "text/plain": [
       "<Figure size 432x288 with 2 Axes>"
      ]
     },
     "metadata": {},
     "output_type": "display_data"
    }
   ],
   "source": [
    "#make a heatmap after standardization\n",
    "sns.set_theme()\n",
    "sns.heatmap(indexed.drop(columns=['Status']))\n",
    "plt.show()"
   ]
  },
  {
   "cell_type": "markdown",
   "id": "advanced-healing",
   "metadata": {},
   "source": [
    "![7.5_heatmap](BIC3007/7.5_heatmap.PNG)"
   ]
  },
  {
   "cell_type": "markdown",
   "id": "qualified-gibson",
   "metadata": {},
   "source": [
    "### PCA"
   ]
  },
  {
   "cell_type": "code",
   "execution_count": 49,
   "id": "global-while",
   "metadata": {},
   "outputs": [],
   "source": [
    "# split data into features (X) and labels (y). \n",
    "# features (X) disini merujuk pada value dari masing-masing senyawa \n",
    "# labels (Y) merujuk pada Status tiap sample\n",
    "X = merge_raw.values\n",
    "Y = metadata.values"
   ]
  },
  {
   "cell_type": "code",
   "execution_count": 50,
   "id": "warming-lingerie",
   "metadata": {},
   "outputs": [
    {
     "data": {
      "text/html": [
       "<div>\n",
       "<style scoped>\n",
       "    .dataframe tbody tr th:only-of-type {\n",
       "        vertical-align: middle;\n",
       "    }\n",
       "\n",
       "    .dataframe tbody tr th {\n",
       "        vertical-align: top;\n",
       "    }\n",
       "\n",
       "    .dataframe thead th {\n",
       "        text-align: right;\n",
       "    }\n",
       "</style>\n",
       "<table border=\"1\" class=\"dataframe\">\n",
       "  <thead>\n",
       "    <tr style=\"text-align: right;\">\n",
       "      <th></th>\n",
       "      <th>PC1</th>\n",
       "      <th>PC2</th>\n",
       "    </tr>\n",
       "  </thead>\n",
       "  <tbody>\n",
       "    <tr>\n",
       "      <th>0</th>\n",
       "      <td>6.799914</td>\n",
       "      <td>1.100210</td>\n",
       "    </tr>\n",
       "    <tr>\n",
       "      <th>1</th>\n",
       "      <td>8.778472</td>\n",
       "      <td>0.148174</td>\n",
       "    </tr>\n",
       "    <tr>\n",
       "      <th>2</th>\n",
       "      <td>4.594290</td>\n",
       "      <td>-1.343235</td>\n",
       "    </tr>\n",
       "    <tr>\n",
       "      <th>3</th>\n",
       "      <td>-1.703889</td>\n",
       "      <td>0.256836</td>\n",
       "    </tr>\n",
       "    <tr>\n",
       "      <th>4</th>\n",
       "      <td>-1.903232</td>\n",
       "      <td>-0.217880</td>\n",
       "    </tr>\n",
       "  </tbody>\n",
       "</table>\n",
       "</div>"
      ],
      "text/plain": [
       "        PC1       PC2\n",
       "0  6.799914  1.100210\n",
       "1  8.778472  0.148174\n",
       "2  4.594290 -1.343235\n",
       "3 -1.703889  0.256836\n",
       "4 -1.903232 -0.217880"
      ]
     },
     "execution_count": 50,
     "metadata": {},
     "output_type": "execute_result"
    }
   ],
   "source": [
    "seed = 0\n",
    "ndimensions = 2 #tergantung berapa dimensi PCA yang ingin dibuat\n",
    "\n",
    "pca = PCA(n_components=ndimensions, random_state=seed)\n",
    "pca.fit(raw_scaled)\n",
    "X_pca_array = pca.transform(raw_scaled)\n",
    "X_pca = pd.DataFrame(X_pca_array, columns=['PC1','PC2']) # PC=principal component\n",
    "X_pca.head(5)"
   ]
  },
  {
   "cell_type": "code",
   "execution_count": 51,
   "id": "threaded-spyware",
   "metadata": {},
   "outputs": [
    {
     "data": {
      "text/plain": [
       "array([1, 1, 1, 0, 0, 0, 0, 0, 0, 0, 0, 0, 0, 0, 0], dtype=int32)"
      ]
     },
     "execution_count": 51,
     "metadata": {},
     "output_type": "execute_result"
    }
   ],
   "source": [
    "nclusters = 2 #this is the k in kmeans. \n",
    "#Terhgantung berapa banyak kelompok yang ingin dibuat. Clue: Perhatikan berapa banyak status\n",
    "\n",
    "km = KMeans(n_clusters=nclusters, random_state=seed)\n",
    "km.fit(raw_scaled)\n",
    "\n",
    "# predict the cluster for each data point\n",
    "y_cluster_kmeans = km.predict(raw_scaled)\n",
    "y_cluster_kmeans"
   ]
  },
  {
   "cell_type": "code",
   "execution_count": 52,
   "id": "czech-score",
   "metadata": {},
   "outputs": [
    {
     "data": {
      "text/html": [
       "<div>\n",
       "<style scoped>\n",
       "    .dataframe tbody tr th:only-of-type {\n",
       "        vertical-align: middle;\n",
       "    }\n",
       "\n",
       "    .dataframe tbody tr th {\n",
       "        vertical-align: top;\n",
       "    }\n",
       "\n",
       "    .dataframe thead th {\n",
       "        text-align: right;\n",
       "    }\n",
       "</style>\n",
       "<table border=\"1\" class=\"dataframe\">\n",
       "  <thead>\n",
       "    <tr style=\"text-align: right;\">\n",
       "      <th></th>\n",
       "      <th>PC1</th>\n",
       "      <th>PC2</th>\n",
       "      <th>ClusterKmeans</th>\n",
       "      <th>Status</th>\n",
       "    </tr>\n",
       "  </thead>\n",
       "  <tbody>\n",
       "    <tr>\n",
       "      <th>0</th>\n",
       "      <td>6.799914</td>\n",
       "      <td>1.100210</td>\n",
       "      <td>1</td>\n",
       "      <td>1</td>\n",
       "    </tr>\n",
       "    <tr>\n",
       "      <th>1</th>\n",
       "      <td>8.778472</td>\n",
       "      <td>0.148174</td>\n",
       "      <td>1</td>\n",
       "      <td>1</td>\n",
       "    </tr>\n",
       "    <tr>\n",
       "      <th>2</th>\n",
       "      <td>4.594290</td>\n",
       "      <td>-1.343235</td>\n",
       "      <td>1</td>\n",
       "      <td>1</td>\n",
       "    </tr>\n",
       "    <tr>\n",
       "      <th>3</th>\n",
       "      <td>-1.703889</td>\n",
       "      <td>0.256836</td>\n",
       "      <td>0</td>\n",
       "      <td>0</td>\n",
       "    </tr>\n",
       "    <tr>\n",
       "      <th>4</th>\n",
       "      <td>-1.903232</td>\n",
       "      <td>-0.217880</td>\n",
       "      <td>0</td>\n",
       "      <td>0</td>\n",
       "    </tr>\n",
       "  </tbody>\n",
       "</table>\n",
       "</div>"
      ],
      "text/plain": [
       "        PC1       PC2  ClusterKmeans  Status\n",
       "0  6.799914  1.100210              1       1\n",
       "1  8.778472  0.148174              1       1\n",
       "2  4.594290 -1.343235              1       1\n",
       "3 -1.703889  0.256836              0       0\n",
       "4 -1.903232 -0.217880              0       0"
      ]
     },
     "execution_count": 52,
     "metadata": {},
     "output_type": "execute_result"
    }
   ],
   "source": [
    "Y2 = pd.Categorical(merge_raw['Status'].values).codes #!!! #Mengubah string/kata menjadi angka\n",
    "y_id_array2 = Y2\n",
    "\n",
    "df_plot = X_pca.copy()\n",
    "df_plot['ClusterKmeans'] = y_cluster_kmeans\n",
    "df_plot['Status'] = y_id_array2 # also add actual labels so we can use it in later plots\n",
    "\n",
    "df_plot.head(5)"
   ]
  },
  {
   "cell_type": "code",
   "execution_count": 53,
   "id": "synthetic-conservative",
   "metadata": {},
   "outputs": [],
   "source": [
    "def plotData(df, groupby):\n",
    "    \"make a scatterplot of the first two principal components of the data, colored by the groupby field\"\n",
    "    \n",
    "    # make a figure with just one subplot.\n",
    "    # you can specify multiple subplots in a figure, \n",
    "    # in which case ax would be an array of axes,\n",
    "    # but in this case it'll just be a single axis object.\n",
    "    fig, ax = plt.subplots(figsize = (7,7))\n",
    "\n",
    "    # color map\n",
    "    cmap = mpl.cm.get_cmap('prism')\n",
    "\n",
    "    # we can use pandas to plot each cluster on the same graph.\n",
    "    # see http://pandas.pydata.org/pandas-docs/stable/generated/pandas.DataFrame.plot.html\n",
    "    for i, cluster in df.groupby(groupby):\n",
    "        cluster.plot(ax = ax, # need to pass this so all scatterplots are on same graph\n",
    "                     kind = 'scatter', \n",
    "                     x = 'PC1', y = 'PC2',\n",
    "                     color = cmap(i/(nclusters-1)), # cmap maps a number to a color\n",
    "                     label = \"%s %i\" % (groupby, i), \n",
    "                     s=30) # dot size\n",
    "    ax.grid()\n",
    "    ax.axhline(0, color='black')\n",
    "    ax.axvline(0, color='black')\n",
    "    ax.set_title(\"Principal Components Analysis\");"
   ]
  },
  {
   "cell_type": "code",
   "execution_count": 54,
   "id": "stock-maximum",
   "metadata": {},
   "outputs": [
    {
     "data": {
      "image/png": "[encoded data removed]",
      "text/plain": [
       "<Figure size 504x504 with 1 Axes>"
      ]
     },
     "metadata": {},
     "output_type": "display_data"
    },
    {
     "data": {
      "image/png": "[encoded data removed]",
      "text/plain": [
       "<Figure size 504x504 with 1 Axes>"
      ]
     },
     "metadata": {},
     "output_type": "display_data"
    }
   ],
   "source": [
    "# plot the clusters each datapoint was assigned to\n",
    "plotData(df_plot, 'ClusterKmeans')\n",
    "plotData(df_plot, 'Status')"
   ]
  },
  {
   "cell_type": "markdown",
   "id": "stainless-yesterday",
   "metadata": {},
   "source": [
    "![7.8_PCA_plotcluster](BIC3007/7.8_PCA_plotcluster.PNG)\n",
    "![7.8_PCA_plotstatus](BIC3007/7.8_PCA_plotstatus.PNG)"
   ]
  },
  {
   "cell_type": "markdown",
   "id": "computational-hours",
   "metadata": {},
   "source": [
    "**Pertanyaan**\n",
    "* Berdasarkan PCA K-means, berapa banyak sample yang memiliki fenotip tahan?\n",
    "* Bandingkan antara PCA K-means dengan PCA status. Apakah terdapat perbedaan? Jika iya, coba interpretasikan hasil kedua PCA yang anda lihat?\n",
    "\n",
    "**Jawaban**\n",
    "* (Tulisakan jawaban disini)"
   ]
  },
  {
   "cell_type": "code",
   "execution_count": null,
   "id": "early-birmingham",
   "metadata": {},
   "outputs": [],
   "source": []
  }
 ],
 "metadata": {
  "kernelspec": {
   "display_name": "Python 3",
   "language": "python",
   "name": "python3"
  },
  "language_info": {
   "codemirror_mode": {
    "name": "ipython",
    "version": 3
   },
   "file_extension": ".py",
   "mimetype": "text/x-python",
   "name": "python",
   "nbconvert_exporter": "python",
   "pygments_lexer": "ipython3",
   "version": "3.8.8"
  }
 },
 "nbformat": 4,
 "nbformat_minor": 5
}
